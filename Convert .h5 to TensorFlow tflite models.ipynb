{
 "cells": [
  {
   "cell_type": "code",
   "execution_count": null,
   "id": "e43f4ec5",
   "metadata": {},
   "outputs": [],
   "source": []
  },
  {
   "cell_type": "code",
   "execution_count": 1,
   "id": "b2503dcd",
   "metadata": {},
   "outputs": [
    {
     "name": "stdout",
     "output_type": "stream",
     "text": [
      "INFO:tensorflow:Assets written to: C:\\Users\\Andrew\\AppData\\Local\\Temp\\tmp_99bv1be\\assets\n"
     ]
    },
    {
     "name": "stderr",
     "output_type": "stream",
     "text": [
      "WARNING:absl:Buffer deduplication procedure will be skipped when flatbuffer library is not properly loaded\n"
     ]
    },
    {
     "data": {
      "text/plain": [
       "1014456"
      ]
     },
     "execution_count": 1,
     "metadata": {},
     "output_type": "execute_result"
    }
   ],
   "source": [
    "from tensorflow import lite\n",
    "from tensorflow.keras import models\n",
    "\n",
    "# Parameters\n",
    "keras_model_filename = 'model_v3.h5'\n",
    "tflite_filename = 'model_v3.tflite'\n",
    "\n",
    "# Convert model to TF Lite model\n",
    "model = models.load_model(keras_model_filename)\n",
    "converter = lite.TFLiteConverter.from_keras_model(model)\n",
    "tflite_model = converter.convert()\n",
    "open(tflite_filename, 'wb').write(tflite_model)"
   ]
  },
  {
   "cell_type": "code",
   "execution_count": 2,
   "id": "7be64d48",
   "metadata": {},
   "outputs": [
    {
     "name": "stdout",
     "output_type": "stream",
     "text": [
      "INFO:tensorflow:Assets written to: C:\\Users\\Andrew\\AppData\\Local\\Temp\\tmpl5gqmhwy\\assets\n"
     ]
    },
    {
     "name": "stderr",
     "output_type": "stream",
     "text": [
      "INFO:tensorflow:Assets written to: C:\\Users\\Andrew\\AppData\\Local\\Temp\\tmpl5gqmhwy\\assets\n",
      "WARNING:absl:Buffer deduplication procedure will be skipped when flatbuffer library is not properly loaded\n"
     ]
    },
    {
     "data": {
      "text/plain": [
       "1014456"
      ]
     },
     "execution_count": 2,
     "metadata": {},
     "output_type": "execute_result"
    }
   ],
   "source": [
    "from tensorflow import lite\n",
    "from tensorflow.keras import models\n",
    "\n",
    "# Parameters\n",
    "keras_model_filename = 'model_v4.h5'\n",
    "tflite_filename = 'model_v4.tflite'\n",
    "\n",
    "# Convert model to TF Lite model\n",
    "model = models.load_model(keras_model_filename)\n",
    "converter = lite.TFLiteConverter.from_keras_model(model)\n",
    "tflite_model = converter.convert()\n",
    "open(tflite_filename, 'wb').write(tflite_model)"
   ]
  },
  {
   "cell_type": "markdown",
   "id": "7a07337c",
   "metadata": {},
   "source": [
    "## Raspberry Pi function:"
   ]
  },
  {
   "cell_type": "code",
   "execution_count": null,
   "id": "9778d5f6",
   "metadata": {},
   "outputs": [],
   "source": [
    "# Load model (interpreter)\n",
    "from tflite_runtime.interpreter import Interpreter\n",
    "\n",
    "interpreter = Interpreter('model.tflite')\n",
    "interpreter.allocate_tensors()\n",
    "input_details = interpreter.get_input_details()\n",
    "output_details = interpreter.get_output_details()\n",
    "print(input_details)\n",
    "\n",
    "# Make prediction from model\n",
    "def predect(image)\n",
    "    in_tensor = np.float32(image)\n",
    "    interpreter.invoke()\n",
    "    output_data = interpreter.get_tensor(output_details[0]['index'])\n",
    "    val = output_data[0][0]\n",
    "    return(val)\n"
   ]
  }
 ],
 "metadata": {
  "hide_input": false,
  "kernelspec": {
   "display_name": "Python 3 (ipykernel)",
   "language": "python",
   "name": "python3"
  },
  "language_info": {
   "codemirror_mode": {
    "name": "ipython",
    "version": 3
   },
   "file_extension": ".py",
   "mimetype": "text/x-python",
   "name": "python",
   "nbconvert_exporter": "python",
   "pygments_lexer": "ipython3",
   "version": "3.9.7"
  }
 },
 "nbformat": 4,
 "nbformat_minor": 5
}
